{
 "cells": [
  {
   "cell_type": "markdown",
   "id": "29874cf5-938a-4256-a5fd-1133a1bef030",
   "metadata": {},
   "source": [
    "### Create synthetic data\n",
    "\n",
    "Before we apply our customized loss functions on real world stock price data, we will set up some synthetic time series data. The aim is to have **4 input series** and **1 target** series. In particular, we use:\n",
    "\n",
    "- 2 **long wave sin** functions with similar base frequency but different amplitude to set the large scale trend. These series are highly correlated, on purpose. \n",
    "- Additionally, we add 1 **short wave sin** function for adding some small scale fluctuations. This feature is supposed to be linearly independent of the 2 long wave functions. \n",
    "- Ultimately, we add 1 **noise** series which is randomly drawn. \n",
    "\n",
    "The **target** series is the (weighted) **sum of all 4 series**."
   ]
  },
  {
   "cell_type": "code",
   "execution_count": 1,
   "id": "1f5d1d45-2a3d-452a-8061-b6919e21af67",
   "metadata": {},
   "outputs": [],
   "source": [
    "# Import libraries:\n",
    "import random\n",
    "import numpy as np\n",
    "import matplotlib.pyplot as plt"
   ]
  },
  {
   "cell_type": "code",
   "execution_count": 2,
   "id": "8b0b5dcc",
   "metadata": {},
   "outputs": [],
   "source": [
    "## Create some data:\n",
    "\n",
    "# Set number of desired time steps:\n",
    "n_steps = 1000\n",
    "\n",
    "# Create linear space for time axis:\n",
    "t_linspace = np.linspace(0, 10*np.pi, n_steps)\n",
    "\n",
    "# Create (reproducible) random numbers, drawn from a normal distribution:\n",
    "np.random.seed(1)\n",
    "rand_normal_1 = np.random.normal(0, 0.1, n_steps)\n",
    "np.random.seed(2)\n",
    "rand_normal_2 = np.random.normal(0, 0.1, n_steps)\n",
    "np.random.seed(3)\n",
    "rand_normal_3 = np.random.normal(0, 0.1, n_steps)\n",
    "np.random.seed(4)\n",
    "rand_normal_4 = np.random.uniform(0, 1, (n_steps,4))\n",
    "\n",
    "# Create two long wave sin series:\n",
    "input_1 = 0.5*np.sin(t_linspace)+5*rand_normal_1\n",
    "input_2 = np.sin(t_linspace+5*rand_normal_1)\n",
    "\n",
    "# Create single short wave sin series:\n",
    "input_3 = 0.5*np.sin(3*t_linspace)+5*rand_normal_2\n",
    "\n",
    "# Create noise series:\n",
    "input_4 = 3*rand_normal_3\n",
    "\n",
    "# Stack inputs:\n",
    "inputs = np.stack([input_1,input_2,input_3,input_4],axis=1)\n",
    "\n",
    "# Create target, as weighted sum of all inputs, where weights are randomly drawn:\n",
    "\n",
    "# target = 0.1*input_1 + 0.2*input_2 + input_3 + input_4\n",
    "target = (\n",
    "    (input_1*rand_normal_4[:,0]) + \n",
    "    (input_2*rand_normal_4[:,1]) + \n",
    "    (input_3*rand_normal_4[:,2]) + \n",
    "    (input_4*rand_normal_4[:,3])\n",
    ")"
   ]
  },
  {
   "cell_type": "code",
   "execution_count": 9,
   "id": "8ef33f77",
   "metadata": {},
   "outputs": [
    {
     "data": {
      "text/plain": [
       "[<matplotlib.lines.Line2D at 0x167584be0>]"
      ]
     },
     "execution_count": 9,
     "metadata": {},
     "output_type": "execute_result"
    },
    {
     "data": {
      "image/png": "[encoded data removed]",
      "text/plain": [
       "<Figure size 432x288 with 1 Axes>"
      ]
     },
     "metadata": {
      "needs_background": "light"
     },
     "output_type": "display_data"
    }
   ],
   "source": [
    "# Get familiar with inputs and target:\n",
    "# plt.plot(input_1)\n",
    "# plt.plot(input_2)\n",
    "# plt.plot(input_3)\n",
    "# plt.plot(input_4)\n",
    "plt.plot(target)"
   ]
  },
  {
   "cell_type": "code",
   "execution_count": 11,
   "id": "aa48822f",
   "metadata": {},
   "outputs": [
    {
     "data": {
      "text/plain": [
       "array([[1.        , 0.54729807],\n",
       "       [0.54729807, 1.        ]])"
      ]
     },
     "execution_count": 11,
     "metadata": {},
     "output_type": "execute_result"
    }
   ],
   "source": [
    "# Check correlation of input series 1 and 2:\n",
    "np.corrcoef(np.stack([input_1,input_2]))"
   ]
  },
  {
   "cell_type": "code",
   "execution_count": 12,
   "id": "562375a9",
   "metadata": {},
   "outputs": [],
   "source": [
    "# Store input and target series:\n",
    "np.save('../data/inputs.npy',inputs)\n",
    "np.save('../data/target.npy',target)"
   ]
  },
  {
   "cell_type": "code",
   "execution_count": 59,
   "id": "ea12b805",
   "metadata": {},
   "outputs": [],
   "source": []
  },
  {
   "cell_type": "code",
   "execution_count": null,
   "id": "129292ab",
   "metadata": {},
   "outputs": [],
   "source": []
  }
 ],
 "metadata": {
  "kernelspec": {
   "display_name": "Python 3 (ipykernel)",
   "language": "python",
   "name": "python3"
  },
  "language_info": {
   "codemirror_mode": {
    "name": "ipython",
    "version": 3
   },
   "file_extension": ".py",
   "mimetype": "text/x-python",
   "name": "python",
   "nbconvert_exporter": "python",
   "pygments_lexer": "ipython3",
   "version": "3.9.9"
  }
 },
 "nbformat": 4,
 "nbformat_minor": 5
}
